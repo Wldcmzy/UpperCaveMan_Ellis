{
 "cells": [
  {
   "cell_type": "code",
   "execution_count": 1,
   "metadata": {},
   "outputs": [],
   "source": [
    "import sqlite3"
   ]
  },
  {
   "cell_type": "code",
   "execution_count": 2,
   "metadata": {},
   "outputs": [
    {
     "data": {
      "text/plain": [
       "<sqlite3.Connection at 0x1d446743030>"
      ]
     },
     "execution_count": 2,
     "metadata": {},
     "output_type": "execute_result"
    }
   ],
   "source": [
    "conn = sqlite3.connect('test.db')\n",
    "conn"
   ]
  },
  {
   "cell_type": "code",
   "execution_count": 14,
   "metadata": {},
   "outputs": [
    {
     "data": {
      "text/plain": [
       "<sqlite3.Connection at 0x1d4472da300>"
      ]
     },
     "execution_count": 14,
     "metadata": {},
     "output_type": "execute_result"
    }
   ],
   "source": [
    "import pathlib\n",
    "conn = sqlite3.connect(pathlib.Path('test.db'))\n",
    "conn"
   ]
  },
  {
   "cell_type": "code",
   "execution_count": 16,
   "metadata": {},
   "outputs": [
    {
     "name": "stdout",
     "output_type": "stream",
     "text": [
      "b''\n"
     ]
    }
   ],
   "source": [
    "with open(pathlib.Path('test.db'), 'rb') as f:\n",
    "    print(f.read())"
   ]
  },
  {
   "cell_type": "code",
   "execution_count": 20,
   "metadata": {},
   "outputs": [
    {
     "data": {
      "text/plain": [
       "'2022-07-07 13:39:14'"
      ]
     },
     "execution_count": 20,
     "metadata": {},
     "output_type": "execute_result"
    }
   ],
   "source": [
    "import datetime\n",
    "now=datetime.datetime.now()\n",
    "strtime = now.strftime('%Y-%m-%d %H:%M:%S')\n",
    "strtime"
   ]
  },
  {
   "cell_type": "code",
   "execution_count": 89,
   "metadata": {},
   "outputs": [
    {
     "name": "stdout",
     "output_type": "stream",
     "text": [
      "[(3, 'asdf', '2022-07-07 14:57:28', '8'), (4, 'asdf', '2022-07-07 14:57:28', '7'), (5, 'asdf', '2022-07-07 14:57:33', '8'), (6, 'asdf', '2022-07-07 14:57:33', '7'), (7, 'asdf', '2022-07-07 14:57:43', '8'), (8, 'asdf', '2022-07-07 14:57:43', '7'), (9, 'asdf', '2022-07-07 14:57:49', '8'), (10, 'asdf', '2022-07-07 14:57:49', '7'), (11, 'asdf', '2022-07-07 15:00:09', '8'), (12, 'asdf', '2022-07-07 15:00:09', '7'), (13, 'asdf', '2022-07-07 15:02:44', '8'), (15, 'asdf', '2022-07-07 15:02:47', '8'), (16, 'asdf', '2022-07-07 15:02:47', '7'), (17, 'asdf', '2022-07-07 15:02:50', '8'), (18, 'asdf', '2022-07-07 15:02:50', '7'), (19, 'asdf', '2022-07-07 15:02:55', '8'), (20, 'asdf', '2022-07-07 15:02:55', '7'), (21, 'asdf', '2022-07-07 15:03:01', '8'), (22, 'asdf', '2022-07-07 15:03:01', '7'), (23, 'asdf', '2022-07-07 15:03:23', '8'), (24, 'asdf', '2022-07-07 15:03:23', '7'), (25, 'asdf', '2022-07-07 15:03:33', '8'), (26, 'asdf', '2022-07-07 15:03:33', '7'), (27, 'asdf', '2022-07-07 15:03:46', '8'), (28, 'asdf', '2022-07-07 15:03:46', '7'), (29, 'asdf', '2022-07-07 15:03:52', '8'), (30, 'asdf', '2022-07-07 15:03:52', '7'), (31, 'asdf', '2022-07-07 15:03:58', '8'), (32, 'asdf', '2022-07-07 15:03:58', '7'), (33, 'asdf', '2022-07-07 15:04:57', '8'), (34, 'asdf', '2022-07-07 15:04:57', '7')]\n"
     ]
    },
    {
     "data": {
      "text/plain": [
       "[]"
      ]
     },
     "execution_count": 89,
     "metadata": {},
     "output_type": "execute_result"
    }
   ],
   "source": [
    "from nonebot.log import logger\n",
    "import os\n",
    "import sqlite3\n",
    "from sqlite3 import Connection\n",
    "from pathlib import Path\n",
    "import datetime\n",
    "\n",
    "from sqlalchemy import func\n",
    "\n",
    "DB_PATH: Path = Path(\"\")\n",
    "\n",
    "\n",
    "def try_except_ensure(func):\n",
    "    def new_func(*args) -> Optional[str, list[str]]:\n",
    "        try:\n",
    "            return func(*args)\n",
    "        except Exception as e:\n",
    "            def __(e : Exception, *args) -> str: \n",
    "                return f'出错了:{type(e)}|{str(e)}'  \n",
    "            return __(e, *args)\n",
    "    return new_func\n",
    "\n",
    "def open_table(path: Path) -> Connection:\n",
    "    if not path.exists():\n",
    "        conn = sqlite3.connect(path)\n",
    "        cursor = conn.cursor()\n",
    "        cursor.execute('''\n",
    "            CREATE TABLE MEMO(\n",
    "            ID INTEGER PRIMARY KEY AUTOINCREMENT,\n",
    "            DATA           TEXT     ,\n",
    "            USER           TEXT     ,\n",
    "            TIME           TEXT     );\n",
    "        '''.strip())\n",
    "    else:\n",
    "        conn = sqlite3.connect(path)\n",
    "\n",
    "    return conn\n",
    "\n",
    "@try_except_ensure\n",
    "def memo_add(group_id: str, user_id: str, data: str) -> str:\n",
    "    '''把数据存进数据库, 返回提示信息'''\n",
    "    \n",
    "    conn = open_table(DB_PATH / (group_id + '.db'))\n",
    "    cursor = conn.cursor()\n",
    "\n",
    "    nowtime=datetime.datetime.now().strftime('%Y-%m-%d %H:%M:%S')\n",
    "\n",
    "    cursor.execute(f'''\n",
    "        INSERT INTO MEMO (USER, TIME, DATA)\n",
    "        VALUES (\"{user_id}\", \"{nowtime}\", \"{data}\");\n",
    "    '''.strip())\n",
    "\n",
    "    conn.commit()\n",
    "    conn.close()\n",
    "\n",
    "    return '大概写好了~'\n",
    "\n",
    "@try_except_ensure\n",
    "def memo_see(group_id: str) -> list[str]:\n",
    "    '''以字符串列表形式返回数据库信息'''\n",
    "    conn = open_table(DB_PATH / (group_id + '.db'))\n",
    "    cursor = conn.cursor()\n",
    "    cursor.execute('''\n",
    "        SELECT ID, USER, TIME, DATA\n",
    "        from MEMO;\n",
    "    ''')\n",
    "\n",
    "    print(cursor.fetchall())\n",
    "\n",
    "    lst, text = [], ''\n",
    "    for mid, userid, datatime, data in cursor.fetchall():\n",
    "        print(mid, userid, datatime, data)\n",
    "        text += f'{mid}. {data}\\n 由{userid}于{datatime}写入\\n'\n",
    "        if len(text) >= 512:\n",
    "            lst.append(text)\n",
    "            text = ''\n",
    "    if text != '': lst.append(text)\n",
    "\n",
    "    return lst\n",
    "\n",
    "@try_except_ensure\n",
    "def memo_del(group_id: str, index: str) -> str:\n",
    "    conn = open_table(DB_PATH / (group_id + '.db'))\n",
    "    cursor = conn.cursor()\n",
    "\n",
    "    cursor.execute(f'''\n",
    "        SELECT ID \n",
    "        FROM MEMO \n",
    "        WHERE ID = \"{int(index)}\";\n",
    "    ''')\n",
    "    if cursor.fetchall() == []:\n",
    "        return '序号错误~'\n",
    "\n",
    "    cursor.execute(f'''\n",
    "        DELETE \n",
    "        FROM MEMO\n",
    "        WHERE ID = \"{int(index)}\";\n",
    "    ''')\n",
    "    conn.commit()\n",
    "\n",
    "    return '大概删了~'\n"
   ]
  },
  {
   "cell_type": "code",
   "execution_count": null,
   "metadata": {},
   "outputs": [],
   "source": []
  },
  {
   "cell_type": "code",
   "execution_count": null,
   "metadata": {},
   "outputs": [],
   "source": [
    "def try_except_ensure1(func):\n",
    "    def new_func(*args):\n",
    "        try:\n",
    "            return func(*args)\n",
    "        except Exception as e:\n",
    "            def __(e : Exception, *args) -> str: \n",
    "                return f'出错了:{type(e)}\\n{str(e)}'\n",
    "            return __(e, *args)\n",
    "    return new_func\n",
    "\n",
    "@try_except_ensure1"
   ]
  },
  {
   "cell_type": "code",
   "execution_count": null,
   "metadata": {},
   "outputs": [],
   "source": [
    "\n"
   ]
  },
  {
   "cell_type": "code",
   "execution_count": 5,
   "metadata": {},
   "outputs": [],
   "source": [
    "Default_Mod = 998244353\n",
    "\n",
    "def int_size_ensure(func, mod : int = Default_Mod):\n",
    "    return lambda *args: func(*tuple(int(each) % mod for each in args))\n",
    "\n",
    "def try_except_ensure(func):\n",
    "    def new_func(*args):\n",
    "        try:\n",
    "            return func(*args)\n",
    "        except Exception as e:\n",
    "            async def __(e : Exception, *args) -> str: \n",
    "                return f'出错了:{type(e)}\\n{str(e)}'\n",
    "            return __(e, *args)\n",
    "    return new_func\n",
    "\n",
    "@try_except_ensure\n",
    "@int_size_ensure\n",
    "def gcd(a : int, b : int) -> int:\n",
    "    '''求a和b的最大公因数'''\n",
    "    return a if not b else gcd(b, a % b)\n",
    "\n",
    "@try_except_ensure\n",
    "@int_size_ensure\n",
    "async def lcm(a : int, b : int) -> int:\n",
    "    '''求a和b的最小公倍数'''\n",
    "    return a // await gcd(a, b) * b\n",
    "\n",
    "@try_except_ensure\n",
    "@int_size_ensure\n",
    "async def power(x : int, p : int, mod : int = Default_Mod) -> int:\n",
    "    '''求x的p次幂%mod'''\n",
    "    base, ans = x, 1\n",
    "    while p >= 1:\n",
    "        if p & 1: ans = ans * base % mod\n",
    "        base = base ** 2 % mod\n",
    "        p >>= 1\n",
    "    return ans\n",
    "\n",
    "@try_except_ensure\n",
    "@int_size_ensure\n",
    "async def exgcd(a : int, b : int) -> int:\n",
    "    '''扩展欧几里得'''\n",
    "    if b == 0: return 1, 0, a\n",
    "    x, y, ret = await exgcd(b, a % b)\n",
    "    return y, (x - (a // b) * y), ret\n",
    "\n",
    "@try_except_ensure\n",
    "@int_size_ensure\n",
    "async def inverse_Fermat(x : int, p : int) -> int:\n",
    "    '''求xmodp的逆元, 费马小定理, 只给答案, 不验证数据合法性'''\n",
    "    return await power(x, p - 2, p)\n",
    "\n",
    "@try_except_ensure\n",
    "@int_size_ensure\n",
    "async def inverse_exgcd(x : int, p : int) -> int:\n",
    "    '''求xmodp的逆元, 扩展欧几里得'''\n",
    "    x, y, ret = await exgcd(x, p)\n",
    "    return x % p if ret == 1 else -0x7fffffff\n",
    "\n",
    "@try_except_ensure\n",
    "@int_size_ensure\n",
    "async def isprime(x : int) -> bool:\n",
    "    '''判断x是否为素数'''\n",
    "    if x <= 1: return False\n",
    "    for i in range(2, int(x ** 0.5) + 1):\n",
    "        if not x % i: \n",
    "            return False\n",
    "    return True\n",
    "\n"
   ]
  },
  {
   "cell_type": "code",
   "execution_count": 30,
   "metadata": {},
   "outputs": [
    {
     "data": {
      "text/plain": [
       "['asdf']"
      ]
     },
     "execution_count": 30,
     "metadata": {},
     "output_type": "execute_result"
    }
   ],
   "source": [
    "a = 'asdf'\n",
    "a = [a]\n",
    "a"
   ]
  },
  {
   "cell_type": "code",
   "execution_count": null,
   "metadata": {},
   "outputs": [],
   "source": []
  }
 ],
 "metadata": {
  "kernelspec": {
   "display_name": "Python 3.9.12 ('base')",
   "language": "python",
   "name": "python3"
  },
  "language_info": {
   "codemirror_mode": {
    "name": "ipython",
    "version": 3
   },
   "file_extension": ".py",
   "mimetype": "text/x-python",
   "name": "python",
   "nbconvert_exporter": "python",
   "pygments_lexer": "ipython3",
   "version": "3.9.12"
  },
  "orig_nbformat": 4,
  "vscode": {
   "interpreter": {
    "hash": "ad2bdc8ecc057115af97d19610ffacc2b4e99fae6737bb82f5d7fb13d2f2c186"
   }
  }
 },
 "nbformat": 4,
 "nbformat_minor": 2
}
