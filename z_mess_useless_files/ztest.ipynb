{
 "cells": [
  {
   "cell_type": "code",
   "execution_count": 1,
   "metadata": {},
   "outputs": [],
   "source": [
    "import sqlite3"
   ]
  },
  {
   "cell_type": "code",
   "execution_count": 2,
   "metadata": {},
   "outputs": [
    {
     "data": {
      "text/plain": [
       "<sqlite3.Connection at 0x1d446743030>"
      ]
     },
     "execution_count": 2,
     "metadata": {},
     "output_type": "execute_result"
    }
   ],
   "source": [
    "conn = sqlite3.connect('test.db')\n",
    "conn"
   ]
  },
  {
   "cell_type": "code",
   "execution_count": 14,
   "metadata": {},
   "outputs": [
    {
     "data": {
      "text/plain": [
       "<sqlite3.Connection at 0x1d4472da300>"
      ]
     },
     "execution_count": 14,
     "metadata": {},
     "output_type": "execute_result"
    }
   ],
   "source": [
    "import pathlib\n",
    "conn = sqlite3.connect(pathlib.Path('test.db'))\n",
    "conn"
   ]
  },
  {
   "cell_type": "code",
   "execution_count": 16,
   "metadata": {},
   "outputs": [
    {
     "name": "stdout",
     "output_type": "stream",
     "text": [
      "b''\n"
     ]
    }
   ],
   "source": [
    "with open(pathlib.Path('test.db'), 'rb') as f:\n",
    "    print(f.read())"
   ]
  },
  {
   "cell_type": "code",
   "execution_count": 20,
   "metadata": {},
   "outputs": [
    {
     "data": {
      "text/plain": [
       "'2022-07-07 13:39:14'"
      ]
     },
     "execution_count": 20,
     "metadata": {},
     "output_type": "execute_result"
    }
   ],
   "source": [
    "import datetime\n",
    "now=datetime.datetime.now()\n",
    "strtime = now.strftime('%Y-%m-%d %H:%M:%S')\n",
    "strtime"
   ]
  },
  {
   "cell_type": "code",
   "execution_count": 5,
   "metadata": {},
   "outputs": [],
   "source": [
    "import random\n",
    "def aaa():\n",
    "    return str(random.randint(1000, 9999))\n",
    "lst = {\n",
    "    1 : '123',\n",
    "    2 : '456',\n",
    "    3 : aaa,\n",
    "    4 : lambda : f'12312312'\n",
    "}"
   ]
  },
  {
   "cell_type": "code",
   "execution_count": 8,
   "metadata": {},
   "outputs": [
    {
     "data": {
      "text/plain": [
       "'12312312'"
      ]
     },
     "execution_count": 8,
     "metadata": {},
     "output_type": "execute_result"
    }
   ],
   "source": [
    "lst[4]()"
   ]
  },
  {
   "cell_type": "code",
   "execution_count": null,
   "metadata": {},
   "outputs": [],
   "source": [
    "def try_except_ensure1(func):\n",
    "    def new_func(*args):\n",
    "        try:\n",
    "            return func(*args)\n",
    "        except Exception as e:\n",
    "            def __(e : Exception, *args) -> str: \n",
    "                return f'出错了:{type(e)}\\n{str(e)}'\n",
    "            return __(e, *args)\n",
    "    return new_func\n",
    "\n",
    "@try_except_ensure1"
   ]
  },
  {
   "cell_type": "code",
   "execution_count": 1,
   "metadata": {},
   "outputs": [
    {
     "name": "stdout",
     "output_type": "stream",
     "text": [
      "163\n"
     ]
    }
   ],
   "source": [
    "from datetime import datetime\n",
    "\n",
    "d1 = datetime.strptime(datetime.now().strftime(\"%Y-%m-%d %H:%M:%S\"), '%Y-%m-%d %H:%M:%S')\n",
    "d2 = datetime.strptime('2022-12-24 00:00:00', '%Y-%m-%d %H:%M:%S')\n",
    "print((d2 - d1).days)  # 1\n",
    "\n"
   ]
  },
  {
   "cell_type": "code",
   "execution_count": 5,
   "metadata": {},
   "outputs": [],
   "source": [
    "Default_Mod = 998244353\n",
    "\n",
    "def int_size_ensure(func, mod : int = Default_Mod):\n",
    "    return lambda *args: func(*tuple(int(each) % mod for each in args))\n",
    "\n",
    "def try_except_ensure(func):\n",
    "    def new_func(*args):\n",
    "        try:\n",
    "            return func(*args)\n",
    "        except Exception as e:\n",
    "            async def __(e : Exception, *args) -> str: \n",
    "                return f'出错了:{type(e)}\\n{str(e)}'\n",
    "            return __(e, *args)\n",
    "    return new_func\n",
    "\n",
    "@try_except_ensure\n",
    "@int_size_ensure\n",
    "def gcd(a : int, b : int) -> int:\n",
    "    '''求a和b的最大公因数'''\n",
    "    return a if not b else gcd(b, a % b)\n",
    "\n",
    "@try_except_ensure\n",
    "@int_size_ensure\n",
    "async def lcm(a : int, b : int) -> int:\n",
    "    '''求a和b的最小公倍数'''\n",
    "    return a // await gcd(a, b) * b\n",
    "\n",
    "@try_except_ensure\n",
    "@int_size_ensure\n",
    "async def power(x : int, p : int, mod : int = Default_Mod) -> int:\n",
    "    '''求x的p次幂%mod'''\n",
    "    base, ans = x, 1\n",
    "    while p >= 1:\n",
    "        if p & 1: ans = ans * base % mod\n",
    "        base = base ** 2 % mod\n",
    "        p >>= 1\n",
    "    return ans\n",
    "\n",
    "@try_except_ensure\n",
    "@int_size_ensure\n",
    "async def exgcd(a : int, b : int) -> int:\n",
    "    '''扩展欧几里得'''\n",
    "    if b == 0: return 1, 0, a\n",
    "    x, y, ret = await exgcd(b, a % b)\n",
    "    return y, (x - (a // b) * y), ret\n",
    "\n",
    "@try_except_ensure\n",
    "@int_size_ensure\n",
    "async def inverse_Fermat(x : int, p : int) -> int:\n",
    "    '''求xmodp的逆元, 费马小定理, 只给答案, 不验证数据合法性'''\n",
    "    return await power(x, p - 2, p)\n",
    "\n",
    "@try_except_ensure\n",
    "@int_size_ensure\n",
    "async def inverse_exgcd(x : int, p : int) -> int:\n",
    "    '''求xmodp的逆元, 扩展欧几里得'''\n",
    "    x, y, ret = await exgcd(x, p)\n",
    "    return x % p if ret == 1 else -0x7fffffff\n",
    "\n",
    "@try_except_ensure\n",
    "@int_size_ensure\n",
    "async def isprime(x : int) -> bool:\n",
    "    '''判断x是否为素数'''\n",
    "    if x <= 1: return False\n",
    "    for i in range(2, int(x ** 0.5) + 1):\n",
    "        if not x % i: \n",
    "            return False\n",
    "    return True\n",
    "\n"
   ]
  },
  {
   "cell_type": "code",
   "execution_count": 30,
   "metadata": {},
   "outputs": [
    {
     "data": {
      "text/plain": [
       "['asdf']"
      ]
     },
     "execution_count": 30,
     "metadata": {},
     "output_type": "execute_result"
    }
   ],
   "source": [
    "a = 'asdf'\n",
    "a = [a]\n",
    "a"
   ]
  },
  {
   "cell_type": "code",
   "execution_count": 1,
   "metadata": {},
   "outputs": [],
   "source": [
    "import sqlite3"
   ]
  },
  {
   "cell_type": "code",
   "execution_count": null,
   "metadata": {},
   "outputs": [],
   "source": []
  }
 ],
 "metadata": {
  "kernelspec": {
   "display_name": "Python 3.9.12 ('base')",
   "language": "python",
   "name": "python3"
  },
  "language_info": {
   "codemirror_mode": {
    "name": "ipython",
    "version": 3
   },
   "file_extension": ".py",
   "mimetype": "text/x-python",
   "name": "python",
   "nbconvert_exporter": "python",
   "pygments_lexer": "ipython3",
   "version": "3.9.12"
  },
  "orig_nbformat": 4,
  "vscode": {
   "interpreter": {
    "hash": "ad2bdc8ecc057115af97d19610ffacc2b4e99fae6737bb82f5d7fb13d2f2c186"
   }
  }
 },
 "nbformat": 4,
 "nbformat_minor": 2
}
